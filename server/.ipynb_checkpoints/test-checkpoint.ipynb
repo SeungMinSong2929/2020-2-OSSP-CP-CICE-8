{
 "cells": [
  {
   "cell_type": "code",
   "execution_count": 56,
   "metadata": {},
   "outputs": [],
   "source": [
    "from urllib.request import urlopen\n",
    "from urllib.parse import urlencode, unquote, quote_plus\n",
    "import urllib\n",
    "import requests\n",
    "import pandas as pd\n",
    "import xmltodict\n",
    "import json\n",
    "import datetime\n",
    "import sqlite3\n",
    "\n",
    "today =datetime.datetime.now()\n",
    "\n",
    "def five_days_ago(today):\n",
    "    five = (today-datetime.timedelta(5)).strftime(\"%Y%m%d\")\n",
    "    return five \n",
    "\n",
    "key = 'RI5ekmQZaQtJcWF%2BFp%2FjIPg3kaXeWQj0MfyFVPynolhE9rUNQjg%2FCdWF1GkZe0UWS63SVaRd26nbQxZMqWGfKQ%3D%3D'\n",
    "url = f'http://openapi.data.go.kr/openapi/service/rest/Covid19/getCovid19InfStateJson?serviceKey={key}&'\n",
    "queryParams = urlencode({ quote_plus('pageNo') : 1, quote_plus('numOfRows') : 10,quote_plus('startCreateDt') : five_days_ago(today),\n",
    "                        quote_plus('endCreateDt') : today.strftime(\"%Y%m%d\")})\n",
    "\n",
    "url2 = url + queryParams\n",
    "response = urlopen(url2) \n",
    "results = response.read().decode(\"utf-8\")\n",
    "\n",
    "results_to_json = xmltodict.parse(results)\n",
    "data = json.loads(json.dumps(results_to_json))\n",
    "\n",
    "corona=data['response']['body']['items']['item']\n",
    "\n",
    "Date=[]\n",
    "Cnt=[]\n",
    "clear_cnt=[]\n",
    "care_cnt=[]\n",
    "death_cnt=[]\n",
    "for i in corona:\n",
    "    Date.append(i['stateDt'])\n",
    "    Cnt.append(i['decideCnt'])\n",
    "    clear_cnt.append(i['clearCnt'])\n",
    "    care_cnt.append(i['careCnt'])\n",
    "    death_cnt.append(i['deathCnt'])\n",
    "\n",
    "df=pd.DataFrame([Date,Cnt,clear_cnt,care_cnt,death_cnt]).T\n",
    "df.columns=['Date','acc_cnt','clear_cnt','care_cnt','death_cnt']\n",
    "df=df.sort_values(by='Date', ascending=True)\n",
    "\n",
    "#Date 열 데이타 날짜 데이터 타입으로 바꾸기\n",
    "df['Date']=df['Date'].apply(lambda x: datetime.datetime.strptime(x, '%Y%m%d'))\n",
    "\n",
    "#날짜 별 확진자/사망자 수 구하기\n",
    "df['acc_cnt']=df['acc_cnt'].astype(int)\n",
    "df['death_cnt']=df['death_cnt'].astype(int)\n",
    "df['확진자 수']=(df.acc_cnt-df.acc_cnt.shift()).fillna(0)\n",
    "df['사망자 수']=(df.death_cnt-df.death_cnt.shift()).fillna(0)"
   ]
  },
  {
   "cell_type": "code",
   "execution_count": 66,
   "metadata": {},
   "outputs": [
    {
     "name": "stdout",
     "output_type": "stream",
     "text": [
      "2020-12-10 00:00:00\n",
      "40098\n",
      "30637\n",
      "8897\n",
      "564\n",
      "0.0\n",
      "0.0\n",
      "2020-12-11 00:00:00\n",
      "40786\n",
      "31157\n",
      "9057\n",
      "572\n",
      "688.0\n",
      "8.0\n",
      "2020-12-12 00:00:00\n",
      "41736\n",
      "31493\n",
      "9665\n",
      "578\n",
      "950.0\n",
      "6.0\n",
      "2020-12-13 00:00:00\n",
      "42766\n",
      "31814\n",
      "10372\n",
      "580\n",
      "1030.0\n",
      "2.0\n",
      "2020-12-14 00:00:00\n",
      "43484\n",
      "32102\n",
      "10795\n",
      "587\n",
      "718.0\n",
      "7.0\n",
      "2020-12-15 00:00:00\n",
      "44364\n",
      "32559\n",
      "11205\n",
      "600\n",
      "880.0\n",
      "13.0\n"
     ]
    }
   ],
   "source": [
    "df\n",
    "length1 = df.shape[0]\n",
    "length2 = df.shape[1]\n",
    "for i in range(length1):\n",
    "    for j in range(length2):\n",
    "        row = df.iloc[i,j]\n",
    "        print(row)"
   ]
  },
  {
   "cell_type": "code",
   "execution_count": 60,
   "metadata": {},
   "outputs": [],
   "source": [
    "def create_db():\n",
    "    con = sqlite3.connect(\"newkorea.db\")\n",
    "    cursor=con.cursor()\n",
    "    cursor.execute(\"CREATE TABLE korea(Date text, acc int, clear_a int, care_a int, death_a int, con int, death int)\")\n",
    "    con.commit()\n",
    "    con.close()\n",
    "    \n",
    "def input_db():\n",
    "    con = sqlite3.connect(\"newkorea.db\")\n",
    "    cursor=con.cursor()\n",
    "    for i in range(length):\n",
    "        row = df.iloc[i]\n",
    "        cursor.execute(\"INSERT INTO korea VALUES(?, ?, ?, ?, ?, ?, ?)\", (row[0], row[1], row[2], row[3], row[4], row[5], row[6]))\n",
    "    con.commit()\n",
    "    con.close()"
   ]
  },
  {
   "cell_type": "code",
   "execution_count": 62,
   "metadata": {},
   "outputs": [
    {
     "ename": "InterfaceError",
     "evalue": "Error binding parameter 0 - probably unsupported type.",
     "output_type": "error",
     "traceback": [
      "\u001b[1;31m---------------------------------------------------------------------------\u001b[0m",
      "\u001b[1;31mInterfaceError\u001b[0m                            Traceback (most recent call last)",
      "\u001b[1;32m<ipython-input-62-5ab79ff1942d>\u001b[0m in \u001b[0;36m<module>\u001b[1;34m\u001b[0m\n\u001b[0;32m      1\u001b[0m \u001b[1;31m# create_db()\u001b[0m\u001b[1;33m\u001b[0m\u001b[1;33m\u001b[0m\u001b[1;33m\u001b[0m\u001b[0m\n\u001b[1;32m----> 2\u001b[1;33m \u001b[0minput_db\u001b[0m\u001b[1;33m(\u001b[0m\u001b[1;33m)\u001b[0m\u001b[1;33m\u001b[0m\u001b[1;33m\u001b[0m\u001b[0m\n\u001b[0m",
      "\u001b[1;32m<ipython-input-60-78f6b2b40fde>\u001b[0m in \u001b[0;36minput_db\u001b[1;34m()\u001b[0m\n\u001b[0;32m     11\u001b[0m     \u001b[1;32mfor\u001b[0m \u001b[0mi\u001b[0m \u001b[1;32min\u001b[0m \u001b[0mrange\u001b[0m\u001b[1;33m(\u001b[0m\u001b[0mlength\u001b[0m\u001b[1;33m)\u001b[0m\u001b[1;33m:\u001b[0m\u001b[1;33m\u001b[0m\u001b[1;33m\u001b[0m\u001b[0m\n\u001b[0;32m     12\u001b[0m         \u001b[0mrow\u001b[0m \u001b[1;33m=\u001b[0m \u001b[0mdf\u001b[0m\u001b[1;33m.\u001b[0m\u001b[0miloc\u001b[0m\u001b[1;33m[\u001b[0m\u001b[0mi\u001b[0m\u001b[1;33m]\u001b[0m\u001b[1;33m\u001b[0m\u001b[1;33m\u001b[0m\u001b[0m\n\u001b[1;32m---> 13\u001b[1;33m         \u001b[0mcursor\u001b[0m\u001b[1;33m.\u001b[0m\u001b[0mexecute\u001b[0m\u001b[1;33m(\u001b[0m\u001b[1;34m\"INSERT INTO korea VALUES(?, ?, ?, ?, ?, ?, ?)\"\u001b[0m\u001b[1;33m,\u001b[0m \u001b[1;33m(\u001b[0m\u001b[0mrow\u001b[0m\u001b[1;33m[\u001b[0m\u001b[1;36m0\u001b[0m\u001b[1;33m]\u001b[0m\u001b[1;33m,\u001b[0m \u001b[0mrow\u001b[0m\u001b[1;33m[\u001b[0m\u001b[1;36m1\u001b[0m\u001b[1;33m]\u001b[0m\u001b[1;33m,\u001b[0m \u001b[0mrow\u001b[0m\u001b[1;33m[\u001b[0m\u001b[1;36m2\u001b[0m\u001b[1;33m]\u001b[0m\u001b[1;33m,\u001b[0m \u001b[0mrow\u001b[0m\u001b[1;33m[\u001b[0m\u001b[1;36m3\u001b[0m\u001b[1;33m]\u001b[0m\u001b[1;33m,\u001b[0m \u001b[0mrow\u001b[0m\u001b[1;33m[\u001b[0m\u001b[1;36m4\u001b[0m\u001b[1;33m]\u001b[0m\u001b[1;33m,\u001b[0m \u001b[0mrow\u001b[0m\u001b[1;33m[\u001b[0m\u001b[1;36m5\u001b[0m\u001b[1;33m]\u001b[0m\u001b[1;33m,\u001b[0m \u001b[0mrow\u001b[0m\u001b[1;33m[\u001b[0m\u001b[1;36m6\u001b[0m\u001b[1;33m]\u001b[0m\u001b[1;33m)\u001b[0m\u001b[1;33m)\u001b[0m\u001b[1;33m\u001b[0m\u001b[1;33m\u001b[0m\u001b[0m\n\u001b[0m\u001b[0;32m     14\u001b[0m     \u001b[0mcon\u001b[0m\u001b[1;33m.\u001b[0m\u001b[0mcommit\u001b[0m\u001b[1;33m(\u001b[0m\u001b[1;33m)\u001b[0m\u001b[1;33m\u001b[0m\u001b[1;33m\u001b[0m\u001b[0m\n\u001b[0;32m     15\u001b[0m     \u001b[0mcon\u001b[0m\u001b[1;33m.\u001b[0m\u001b[0mclose\u001b[0m\u001b[1;33m(\u001b[0m\u001b[1;33m)\u001b[0m\u001b[1;33m\u001b[0m\u001b[1;33m\u001b[0m\u001b[0m\n",
      "\u001b[1;31mInterfaceError\u001b[0m: Error binding parameter 0 - probably unsupported type."
     ]
    }
   ],
   "source": [
    "# create_db()\n",
    "input_db()"
   ]
  },
  {
   "cell_type": "code",
   "execution_count": null,
   "metadata": {},
   "outputs": [],
   "source": []
  }
 ],
 "metadata": {
  "kernelspec": {
   "display_name": "Python 3",
   "language": "python",
   "name": "python3"
  },
  "language_info": {
   "codemirror_mode": {
    "name": "ipython",
    "version": 3
   },
   "file_extension": ".py",
   "mimetype": "text/x-python",
   "name": "python",
   "nbconvert_exporter": "python",
   "pygments_lexer": "ipython3",
   "version": "3.7.1"
  }
 },
 "nbformat": 4,
 "nbformat_minor": 2
}
