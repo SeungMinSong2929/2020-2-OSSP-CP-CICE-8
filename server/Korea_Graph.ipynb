{
 "cells": [
  {
   "cell_type": "code",
   "execution_count": 9,
   "metadata": {},
   "outputs": [
    {
     "name": "stdout",
     "output_type": "stream",
     "text": [
      "[('2020.11.23', '31,004', '509', '26,539', '3,956', '2,922,135', '271', '73'), ('2020.11.24', '31,353', '510', '26,722', '4,121', '2,946,399', '349', '183'), ('2020.11.25', '31,735', '513', '26,825', '4,397', '2,966,405', '382', '103'), ('2020.11.26', '32,318', '515', '26,950', '4,853', '2,988,046', '583', '125'), ('2020.11.27', '32,887', '516', '27,103', '5,268', '3,009,577', '569', '153'), ('2020.12.6', '36,915', '540', '28,917', '7,458', '3,180,496', '583', '306')]\n"
     ]
    }
   ],
   "source": [
    "from matplotlib import pyplot as plt\n",
    "import os\n",
    "import sqlite3\n",
    "\n",
    "DB_PATH = 'CoronaBotDB'\n",
    "con = sqlite3.connect(DB_PATH+\"/KoreaDB.db\", isolation_level=None)\n",
    "con = con.cursor()\n",
    "con.execute(\"SELECT * FROM KoreaDB\")\n",
    "print(con.fetchall())"
   ]
  },
  {
   "cell_type": "code",
   "execution_count": 12,
   "metadata": {},
   "outputs": [
    {
     "name": "stdout",
     "output_type": "stream",
     "text": [
      "서버에 데이터를 요청하고 있습니다.. \n",
      "\n",
      "\n",
      "{'resultCode': '0', 'TotalCase': '38,755', 'TotalRecovered': '29,650', 'TotalDeath': '552', 'NowCase': '8,553', 'city1n': '서울', 'city2n': '기타', 'city3n': '경기', 'city4n': '대구', 'city5n': '검역', 'city1p': '27.51', 'city2p': '26.12', 'city3p': '21.86', 'city4p': '18.77', 'city5p': '5.73', 'recoveredPercentage': 76.51, 'deathPercentage': 1.42, 'checkingCounter': '71,274', 'checkingPercentage': '2.2', 'caseCount': '38,755', 'casePercentage': '1.2', 'notcaseCount': '3,111,296', 'notcasePercentage': '96.6', 'TotalChecking': '3,221,325', 'TodayRecovered': '349', 'TodayDeath': '3', 'TotalCaseBefore': '242', 'updateTime': '코로나바이러스감염증-19 국내 발생현황 (12.8. 00시 기준)', 'resultMessage': '정상 처리되었습니다.'}\n"
     ]
    },
    {
     "data": {
      "text/plain": [
       "{'resultCode': '0',\n",
       " 'TotalCase': '38,755',\n",
       " 'TotalRecovered': '29,650',\n",
       " 'TotalDeath': '552',\n",
       " 'NowCase': '8,553',\n",
       " 'city1n': '서울',\n",
       " 'city2n': '기타',\n",
       " 'city3n': '경기',\n",
       " 'city4n': '대구',\n",
       " 'city5n': '검역',\n",
       " 'city1p': '27.51',\n",
       " 'city2p': '26.12',\n",
       " 'city3p': '21.86',\n",
       " 'city4p': '18.77',\n",
       " 'city5p': '5.73',\n",
       " 'recoveredPercentage': 76.51,\n",
       " 'deathPercentage': 1.42,\n",
       " 'checkingCounter': '71,274',\n",
       " 'checkingPercentage': '2.2',\n",
       " 'caseCount': '38,755',\n",
       " 'casePercentage': '1.2',\n",
       " 'notcaseCount': '3,111,296',\n",
       " 'notcasePercentage': '96.6',\n",
       " 'TotalChecking': '3,221,325',\n",
       " 'TodayRecovered': '349',\n",
       " 'TodayDeath': '3',\n",
       " 'TotalCaseBefore': '242',\n",
       " 'updateTime': '코로나바이러스감염증-19 국내 발생현황 (12.8. 00시 기준)',\n",
       " 'resultMessage': '정상 처리되었습니다.',\n",
       " 'data0_0': '합계',\n",
       " 'data0_1': '594',\n",
       " 'data0_2': '38,755',\n",
       " 'data0_3': '29,650',\n",
       " 'data0_4': '552',\n",
       " 'data0_5': '74.75',\n",
       " 'data0_6': '566',\n",
       " 'data0_7': '28',\n",
       " 'data1_0': '서울',\n",
       " 'data1_1': '214',\n",
       " 'data1_2': '10,663',\n",
       " 'data1_3': '7,029',\n",
       " 'data1_4': '104',\n",
       " 'data1_5': '109.55',\n",
       " 'data1_6': '212',\n",
       " 'data1_7': '2',\n",
       " 'data2_0': '부산',\n",
       " 'data2_1': '27',\n",
       " 'data2_2': '1,043',\n",
       " 'data2_3': '654',\n",
       " 'data2_4': '16',\n",
       " 'data2_5': '30.57',\n",
       " 'data2_6': '25',\n",
       " 'data2_7': '2',\n",
       " 'data3_0': '대구',\n",
       " 'data3_1': '4',\n",
       " 'data3_2': '7,275',\n",
       " 'data3_3': '7,013',\n",
       " 'data3_4': '200',\n",
       " 'data3_5': '298.59',\n",
       " 'data3_6': '3',\n",
       " 'data3_7': '1',\n",
       " 'data4_0': '인천',\n",
       " 'data4_1': '28',\n",
       " 'data4_2': '1,616',\n",
       " 'data4_3': '1,249',\n",
       " 'data4_4': '11',\n",
       " 'data4_5': '54.67',\n",
       " 'data4_6': '27',\n",
       " 'data4_7': '1',\n",
       " 'data5_0': '광주',\n",
       " 'data5_1': '11',\n",
       " 'data5_2': '759',\n",
       " 'data5_3': '634',\n",
       " 'data5_4': '3',\n",
       " 'data5_5': '52.10',\n",
       " 'data5_6': '10',\n",
       " 'data5_7': '1',\n",
       " 'data6_0': '대전',\n",
       " 'data6_1': '11',\n",
       " 'data6_2': '563',\n",
       " 'data6_3': '458',\n",
       " 'data6_4': '6',\n",
       " 'data6_5': '38.19',\n",
       " 'data6_6': '10',\n",
       " 'data6_7': '1',\n",
       " 'data7_0': '울산',\n",
       " 'data7_1': '61',\n",
       " 'data7_2': '321',\n",
       " 'data7_3': '183',\n",
       " 'data7_4': '2',\n",
       " 'data7_5': '27.99',\n",
       " 'data7_6': '61',\n",
       " 'data7_7': '0',\n",
       " 'data8_0': '세종',\n",
       " 'data8_1': '1',\n",
       " 'data8_2': '121',\n",
       " 'data8_3': '88',\n",
       " 'data8_4': '0',\n",
       " 'data8_5': '35.35',\n",
       " 'data8_6': '0',\n",
       " 'data8_7': '1',\n",
       " 'data9_0': '경기',\n",
       " 'data9_1': '157',\n",
       " 'data9_2': '8,472',\n",
       " 'data9_3': '6,465',\n",
       " 'data9_4': '126',\n",
       " 'data9_5': '63.94',\n",
       " 'data9_6': '146',\n",
       " 'data9_7': '11',\n",
       " 'data10_0': '강원',\n",
       " 'data10_1': '8',\n",
       " 'data10_2': '722',\n",
       " 'data10_3': '498',\n",
       " 'data10_4': '9',\n",
       " 'data10_5': '46.87',\n",
       " 'data10_6': '8',\n",
       " 'data10_7': '0',\n",
       " 'data11_0': '충북',\n",
       " 'data11_1': '10',\n",
       " 'data11_2': '443',\n",
       " 'data11_3': '231',\n",
       " 'data11_4': '3',\n",
       " 'data11_5': '27.70',\n",
       " 'data11_6': '10',\n",
       " 'data11_7': '0',\n",
       " 'data12_0': '충남',\n",
       " 'data12_1': '15',\n",
       " 'data12_2': '1,010',\n",
       " 'data12_3': '766',\n",
       " 'data12_4': '10',\n",
       " 'data12_5': '47.59',\n",
       " 'data12_6': '15',\n",
       " 'data12_7': '0',\n",
       " 'data13_0': '전북',\n",
       " 'data13_1': '13',\n",
       " 'data13_2': '456',\n",
       " 'data13_3': '236',\n",
       " 'data13_4': '2',\n",
       " 'data13_5': '25.09',\n",
       " 'data13_6': '13',\n",
       " 'data13_7': '0',\n",
       " 'data14_0': '전남',\n",
       " 'data14_1': '7',\n",
       " 'data14_2': '454',\n",
       " 'data14_3': '312',\n",
       " 'data14_4': '2',\n",
       " 'data14_5': '24.35',\n",
       " 'data14_6': '7',\n",
       " 'data14_7': '0',\n",
       " 'data15_0': '경북',\n",
       " 'data15_1': '5',\n",
       " 'data15_2': '1,782',\n",
       " 'data15_3': '1,617',\n",
       " 'data15_4': '57',\n",
       " 'data15_5': '66.93',\n",
       " 'data15_6': '5',\n",
       " 'data15_7': '0',\n",
       " 'data16_0': '경남',\n",
       " 'data16_1': '13',\n",
       " 'data16_2': '744',\n",
       " 'data16_3': '500',\n",
       " 'data16_4': '1',\n",
       " 'data16_5': '22.13',\n",
       " 'data16_6': '12',\n",
       " 'data16_7': '1',\n",
       " 'data17_0': '제주',\n",
       " 'data17_1': '2',\n",
       " 'data17_2': '89',\n",
       " 'data17_3': '70',\n",
       " 'data17_4': '0',\n",
       " 'data17_5': '13.27',\n",
       " 'data17_6': '2',\n",
       " 'data17_7': '0',\n",
       " 'data18_0': '검역',\n",
       " 'data18_1': '7',\n",
       " 'data18_2': '2,222',\n",
       " 'data18_3': '1,647',\n",
       " 'data18_4': '0',\n",
       " 'data18_5': '-',\n",
       " 'data18_6': '0',\n",
       " 'data18_7': '7'}"
      ]
     },
     "execution_count": 12,
     "metadata": {},
     "output_type": "execute_result"
    }
   ],
   "source": [
    "import requests\n",
    "import json\n",
    "\n",
    "def KoreaAPI():\n",
    "    # Corona API에서 API 데이터 받아오기\n",
    "    #####\n",
    "    korea = \"http://api.corona-19.kr/korea?serviceKey=\"\n",
    "    country = \"http://api.corona-19.kr/korea/country?serviceKey=\"\n",
    "\n",
    "    key = 'f14954c4a0b04d9a53b1603e20d40e1b8' #API 키(https://api.corona-19.kr/ 에서 무료 발급 가능)\n",
    "    ###\n",
    "    print('서버에 데이터를 요청하고 있습니다.. \\n\\n')\n",
    "\n",
    "    response = requests.get(korea + key)\n",
    "    text = response.text\n",
    "    data = json.loads(text)\n",
    "\n",
    "    response2 = requests.get(country + key)\n",
    "    text2 = response2.text\n",
    "    data2 = json.loads(text2)\n",
    "\n",
    "    #####\n",
    "    code = response.status_code\n",
    "    code2 = response2.status_code\n",
    "\n",
    "    print(data)\n",
    "    data.update(data2)\n",
    "\n",
    "    return data\n",
    "\n",
    "KoreaAPI()"
   ]
  },
  {
   "cell_type": "code",
   "execution_count": 13,
   "metadata": {},
   "outputs": [],
   "source": [
    "item_list = []\n",
    "for row in con.execute('SELECT * FROM KoreaDB'):\n",
    "    item_list.append({'time': row[0], 'up': int(row[-2]), 'done':int(row[-1])})"
   ]
  },
  {
   "cell_type": "code",
   "execution_count": 14,
   "metadata": {},
   "outputs": [
    {
     "data": {
      "text/plain": [
       "[{'time': '2020.11.23', 'up': 271, 'done': 73},\n",
       " {'time': '2020.11.24', 'up': 349, 'done': 183},\n",
       " {'time': '2020.11.25', 'up': 382, 'done': 103},\n",
       " {'time': '2020.11.26', 'up': 583, 'done': 125},\n",
       " {'time': '2020.11.27', 'up': 569, 'done': 153},\n",
       " {'time': '2020.12.6', 'up': 583, 'done': 306}]"
      ]
     },
     "execution_count": 14,
     "metadata": {},
     "output_type": "execute_result"
    }
   ],
   "source": [
    "item_list"
   ]
  },
  {
   "cell_type": "code",
   "execution_count": 19,
   "metadata": {},
   "outputs": [
    {
     "name": "stdout",
     "output_type": "stream",
     "text": [
      "버전:  3.0.2\n",
      "설치 위치:  C:\\Users\\82108\\Anaconda3\\lib\\site-packages\\matplotlib\\__init__.py\n",
      "설정 위치:  C:\\Users\\82108\\.matplotlib\n",
      "캐시 위치:  C:\\Users\\82108\\.matplotlib\n",
      "0\n"
     ]
    }
   ],
   "source": [
    "import matplotlib as mpl\n",
    "import matplotlib.font_manager as fm\n",
    "\n",
    "print ('버전: ', mpl.__version__)\n",
    "print ('설치 위치: ', mpl.__file__)\n",
    "print ('설정 위치: ', mpl.get_configdir())\n",
    "print ('캐시 위치: ', mpl.get_cachedir())\n",
    "font_list = fm.findSystemFonts(fontpaths=None, fontext='ttf')\n",
    "font_list_mac = fm.OSXInstalledFonts()\n",
    "print(len(font_list_mac))\n",
    "font_list\n",
    "# path ='C:\\\\WINDOWS\\\\Fonts\\\\KoPubWorld Dotum Medium.ttf'\n",
    "# path ='C:\\\\WINDOWS\\\\Fonts\\\\KoPubWorld Batang Medium.ttf'\n",
    "# path = 'C:\\\\Windows\\\\Fonts\\\\Asia물레방아M.ttf'\n",
    "path = 'C:\\\\Windows\\\\Fonts\\\\경기천년바탕OTF_Regular.otf'\n",
    "fontprop = fm.FontProperties(fname=path, size=14)"
   ]
  },
  {
   "cell_type": "code",
   "execution_count": 23,
   "metadata": {},
   "outputs": [
    {
     "data": {
      "image/png": "[encoded data removed]",
      "text/plain": [
       "<Figure size 432x288 with 1 Axes>"
      ]
     },
     "metadata": {
      "needs_background": "light"
     },
     "output_type": "display_data"
    }
   ],
   "source": [
    "fig1 = [i['time'] for i in item_list]\n",
    "fig2 = [i['done'] for i in item_list]\n",
    "fig3 = [i['up'] for i in item_list]\n",
    "\n",
    "colors = ['cornflowerblue', 'lightcoral']\n",
    "\n",
    "ax1 = plt\n",
    "ax1.rc('font', family='NanumGothic')\n",
    "ax1.rc('axes', unicode_minus=False)\n",
    "ax1.plot([i['time'] for i in item_list], [i['up'] for i in item_list], marker = 'o', color = 'lightcoral',  linewidth = 5, label='confirmed')\n",
    "\n",
    "for i, v in enumerate(fig1):\n",
    "    ax1.text(v, fig3[i], str(fig3[i])+'명',                 # 좌표 (x축 = v, y축 = y[0]..y[1], 표시 = y[0]..y[1])\n",
    "            fontproperties=fontprop,\n",
    "             color='red',\n",
    "             fontsize = 12,\n",
    "             horizontalalignment='center',  # horizontalalignment (left, center, right)\n",
    "             verticalalignment='bottom')    # verticalalignment (top, center, bottom). \n",
    "ax1.rcParams['axes.unicode_minus'] = False\n",
    "ax1.rcParams['font.family'] = path\n",
    "ax1.plot(fig1, fig2, marker = 'o', color = 'cornflowerblue', linewidth = 5, label='recovered')\n",
    "ax1.rc('font')\n",
    "for i, v in enumerate(fig1):\n",
    "    ax1.text(v, fig2[i], str(fig2[i])+'명',               # 좌표 (x축 = v, y축 = y[0]..y[1], 표시 = y[0]..y[1])\n",
    "            fontproperties=fontprop,\n",
    "             color='blue',\n",
    "             fontsize = 12,\n",
    "             horizontalalignment='center',  # horizontalalignment (left, center, right)\n",
    "             verticalalignment='bottom')    # verticalalignment (top, center, bottom).    \n",
    "ax1.xticks(rotation=30)\n",
    "\n",
    "\n",
    "plt.title('[대한 민국 코로나 19 확진자 추이 그래프]\\n',fontproperties=fontprop, fontsize=30)\n",
    "ax1.xlabel('(날짜)', fontproperties=fontprop, fontsize = 20)\n",
    "ax1.ylabel('(명)', fontproperties=fontprop, fontsize = 20)\n",
    "ax1.ylim(0,1000)\n",
    "ax1.grid(True)\n",
    "ax1.legend(loc='center right', bbox_to_anchor=(1.45, 0.5), shadow = True, fontsize = 15)\n",
    "ax1.savefig('CoronaBotDB/1.png', facecolor='#eeeeee', bbox_inches='tight')\n",
    "ax1.show()"
   ]
  },
  {
   "cell_type": "code",
   "execution_count": 22,
   "metadata": {},
   "outputs": [
    {
     "data": {
      "text/plain": [
       "<Figure size 432x288 with 0 Axes>"
      ]
     },
     "metadata": {},
     "output_type": "display_data"
    }
   ],
   "source": []
  },
  {
   "cell_type": "code",
   "execution_count": null,
   "metadata": {},
   "outputs": [],
   "source": []
  }
 ],
 "metadata": {
  "kernelspec": {
   "display_name": "Python 3",
   "language": "python",
   "name": "python3"
  },
  "language_info": {
   "codemirror_mode": {
    "name": "ipython",
    "version": 3
   },
   "file_extension": ".py",
   "mimetype": "text/x-python",
   "name": "python",
   "nbconvert_exporter": "python",
   "pygments_lexer": "ipython3",
   "version": "3.7.1"
  }
 },
 "nbformat": 4,
 "nbformat_minor": 2
}
